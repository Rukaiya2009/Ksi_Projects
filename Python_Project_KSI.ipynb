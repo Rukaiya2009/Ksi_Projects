{
 "cells": [
  {
   "cell_type": "code",
   "execution_count": null,
   "id": "47ac65a2",
   "metadata": {},
   "outputs": [],
   "source": [
    "import pandas as pd\n",
    "\n",
    "# Load the dataset\n",
    "data = pd.read_csv(r'C:\\Users\\pc\\Downloads\\Weather\\Weather_data.csv')"
   ]
  },
  {
   "cell_type": "code",
   "execution_count": null,
   "id": "e32e11bb",
   "metadata": {},
   "outputs": [],
   "source": [
    "# Q. 1) Find all the unique 'Wind Speed' values in the data.\n",
    "unique_wind_speed = data['Wind Speed_km/h'].unique()\n",
    "print(\"\\nUnique Wind Speed Values:\")\n",
    "print(unique_wind_speed)"
   ]
  },
  {
   "cell_type": "code",
   "execution_count": null,
   "id": "375e8f40",
   "metadata": {},
   "outputs": [],
   "source": [
    "# Q. 2) Check Last 10 Rows\n",
    "last_10_rows = data.tail(10)\n",
    "print(\"\\nLast 10 Rows:\")\n",
    "print(last_10_rows)"
   ]
  },
  {
   "cell_type": "code",
   "execution_count": null,
   "id": "b013d2f2",
   "metadata": {},
   "outputs": [],
   "source": [
    "# Q. 3) Find Shape of Our Dataset (Number of Rows And Number of Columns)\n",
    "shape = data.shape\n",
    "print(\"\\nShape of Dataset:\", shape)"
   ]
  },
  {
   "cell_type": "code",
   "execution_count": null,
   "id": "438c8c62",
   "metadata": {},
   "outputs": [],
   "source": [
    "# Q. 4) Getting Information About Our Dataset\n",
    "info = data.info()"
   ]
  },
  {
   "cell_type": "code",
   "execution_count": null,
   "id": "3258597c",
   "metadata": {},
   "outputs": [],
   "source": [
    "# Q. 5) Check For Duplicate Data and if available Drop Them\n",
    "data.drop_duplicates(inplace=True)"
   ]
  },
  {
   "cell_type": "code",
   "execution_count": null,
   "id": "78f20c6e",
   "metadata": {},
   "outputs": [],
   "source": [
    "# Q. 6) Check Null Values In The Dataset\n",
    "null_values = data.isnull().sum()\n",
    "print(\"\\nNull Values:\")\n",
    "print(null_values)"
   ]
  },
  {
   "cell_type": "code",
   "execution_count": null,
   "id": "ee63fc3e",
   "metadata": {},
   "outputs": [],
   "source": [
    "# Q. 7) Get Overall Statistics About The Dataframe\n",
    "statistics = data.describe()\n",
    "print(\"\\nOverall Statistics:\")\n",
    "print(statistics)"
   ]
  },
  {
   "cell_type": "code",
   "execution_count": null,
   "id": "3ae70ae6",
   "metadata": {},
   "outputs": [],
   "source": [
    "# Q. 8) Find all instances when 'Snow' was recorded.\n",
    "snow_instances = data[data['Weather'] == 'Snow']\n",
    "print(\"\\nInstances when Snow was recorded:\")\n",
    "print(snow_instances)"
   ]
  },
  {
   "cell_type": "code",
   "execution_count": null,
   "id": "5070f562",
   "metadata": {},
   "outputs": [],
   "source": [
    "# Q. 9) Find all instances when 'Wind Speed is above 24' and 'Visibility is 25'.\n",
    "condition_instances = data[(data['Wind Speed_km/h'] > 24) & (data['Visibility_km'] == 25)]\n",
    "print(\"\\nInstances when Wind Speed is above 24 and Visibility is 25:\")\n",
    "print(condition_instances)"
   ]
  },
  {
   "cell_type": "code",
   "execution_count": null,
   "id": "b5c642af",
   "metadata": {},
   "outputs": [],
   "source": [
    "# Q. 10) What is the Mean value of each column against each 'Weather Condition'?\n",
    "mean_by_weather_condition = data.groupby('Weather')['Temp_C', 'Dew Point Temp_C', 'Rel Hum_%', 'Wind Speed_km/h', 'Visibility_km', 'Press_kPa'].mean()\n",
    "print(\"\\nMean value of each column against each Weather Condition:\")\n",
    "print(mean_by_weather_condition)"
   ]
  },
  {
   "cell_type": "code",
   "execution_count": null,
   "id": "753c024e",
   "metadata": {},
   "outputs": [],
   "source": [
    "\n",
    "# Q. 11) What is the Minimum & Maximum value of each column against each 'Weather Condition'?\n",
    "min_max_by_weather_condition = data.groupby('Weather')['Temp_C', 'Dew Point Temp_C', 'Rel Hum_%', 'Wind Speed_km/h', 'Visibility_km', 'Press_kPa'].agg(['min', 'max'])\n",
    "print(\"\\nMinimum & Maximum value of each column against each Weather Condition:\")\n",
    "print(min_max_by_weather_condition)\n",
    "\n",
    "# Q. 12) Show all the Records where Weather Condition is Fog.\n",
    "fog_records = data[data['Weather'] == 'Fog']\n",
    "print(\"\\nRecords where Weather Condition is Fog:\")\n",
    "print(fog_records)\n",
    "\n",
    "# Q. 13) Find all instances when 'Weather is Clear' or 'Visibility is above 40'.\n",
    "clear_or_high_visibility = data[(data['Weather'] == 'Clear') | (data['Visibility_km'] > 40)]\n",
    "print(\"\\nInstances when Weather is Clear or Visibility is above 40:\")\n",
    "print(clear_or_high_visibility)\n",
    "\n",
    "# Q. 14) Find all instances when 'Weather is Clear' and 'Relative Humidity is greater than 50' or 'Visibility is above 40'.\n",
    "condition_combined = data[((data['Weather'] == 'Clear') & (data['Rel Hum_%'] > 50)) | (data['Visibility_km'] > 40)]\n",
    "print(\"\\nInstances when Weather is Clear and Relative Humidity > 50 or Visibility is above 40:\")\n",
    "print(condition_combined)"
   ]
  }
 ],
 "metadata": {
  "kernelspec": {
   "display_name": "Python 3",
   "language": "python",
   "name": "python3"
  },
  "language_info": {
   "codemirror_mode": {
    "name": "ipython",
    "version": 3
   },
   "file_extension": ".py",
   "mimetype": "text/x-python",
   "name": "python",
   "nbconvert_exporter": "python",
   "pygments_lexer": "ipython3",
   "version": "3.6.8"
  }
 },
 "nbformat": 4,
 "nbformat_minor": 5
}
