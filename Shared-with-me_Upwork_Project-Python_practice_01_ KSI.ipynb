{
 "cells": [
  {
   "cell_type": "code",
   "execution_count": 1,
   "id": "6d2f0668",
   "metadata": {},
   "outputs": [],
   "source": [
    "import pandas as pd\n",
    "import matplotlib.pyplot as plt\n",
    "from scipy.stats import f_oneway, chi2_contingency"
   ]
  },
  {
   "cell_type": "code",
   "execution_count": 2,
   "id": "4d6caa42",
   "metadata": {},
   "outputs": [],
   "source": [
    "# Load the CSV file\n",
    "file_path = r\"E:\\My Work\\Cources\\Khondoker Islam Data Analyst\\Python\\Project_01\\practice01.csv\"\n",
    "data = pd.read_csv(file_path)"
   ]
  },
  {
   "cell_type": "code",
   "execution_count": 3,
   "id": "9272dbd3",
   "metadata": {},
   "outputs": [
    {
     "name": "stdout",
     "output_type": "stream",
     "text": [
      "1) The overall average tip is: 3.00\n"
     ]
    }
   ],
   "source": [
    "# 1) Overall average tip\n",
    "overall_avg_tip = data['tip'].mean()\n",
    "print(f\"1) The overall average tip is: {overall_avg_tip:.2f}\")"
   ]
  },
  {
   "cell_type": "code",
   "execution_count": 4,
   "id": "00c0fd7c",
   "metadata": {},
   "outputs": [
    {
     "name": "stdout",
     "output_type": "stream",
     "text": [
      "\n",
      "2) Statistical summary for numerical variables:\n",
      "       total_bill         tip        size\n",
      "count  244.000000  244.000000  244.000000\n",
      "mean    19.785943    2.998279    2.569672\n",
      "std      8.902412    1.383638    0.951100\n",
      "min      3.070000    1.000000    1.000000\n",
      "25%     13.347500    2.000000    2.000000\n",
      "50%     17.795000    2.900000    2.000000\n",
      "75%     24.127500    3.562500    3.000000\n",
      "max     50.810000   10.000000    6.000000\n"
     ]
    }
   ],
   "source": [
    "# 2) Statistical summary for numerical variables\n",
    "numerical_summary = data.describe()\n",
    "print(\"\\n2) Statistical summary for numerical variables:\")\n",
    "print(numerical_summary)"
   ]
  },
  {
   "cell_type": "code",
   "execution_count": 5,
   "id": "51fda1fe",
   "metadata": {},
   "outputs": [
    {
     "name": "stdout",
     "output_type": "stream",
     "text": [
      "\n",
      "2.1) Null values and percentages:\n",
      "            Null Values  Null Percentage\n",
      "total_bill            0              0.0\n",
      "tip                   0              0.0\n",
      "sex                   0              0.0\n",
      "smoker                0              0.0\n",
      "day                   0              0.0\n",
      "time                  0              0.0\n",
      "size                  0              0.0\n"
     ]
    }
   ],
   "source": [
    "# 2.1) Null values and percentages\n",
    "null_values = data.isnull().sum()\n",
    "null_percentage = (null_values / len(data)) * 100\n",
    "print(\"\\n2.1) Null values and percentages:\")\n",
    "print(pd.concat([null_values, null_percentage], axis=1, keys=['Null Values', 'Null Percentage']))"
   ]
  },
  {
   "cell_type": "code",
   "execution_count": 6,
   "id": "fbba9796",
   "metadata": {},
   "outputs": [
    {
     "name": "stdout",
     "output_type": "stream",
     "text": [
      "\n",
      "2.2) Numerical columns: ['total_bill', 'tip', 'size']\n",
      "Categorical columns: ['sex', 'smoker', 'day', 'time']\n"
     ]
    }
   ],
   "source": [
    "# 2.2) Numerical and Categorical variable names\n",
    "numerical_columns = data.select_dtypes(include=['number']).columns.tolist()\n",
    "categorical_columns = data.select_dtypes(include=['object']).columns.tolist()\n",
    "print(\"\\n2.2) Numerical columns:\", numerical_columns)\n",
    "print(\"Categorical columns:\", categorical_columns)"
   ]
  },
  {
   "cell_type": "code",
   "execution_count": 7,
   "id": "aad64439",
   "metadata": {},
   "outputs": [
    {
     "name": "stdout",
     "output_type": "stream",
     "text": [
      "\n",
      "2.3) ANOVA results for 'tip' and 'sex':\n",
      "ANOVA results: F-statistic = 1.9261545619320046, p-value = 0.16645623503457202\n",
      "The difference in tips between genders is not statistically significant.\n"
     ]
    }
   ],
   "source": [
    "# 2.3) Relationship between Numerical and Categorical variables\n",
    "# For ANOVA (Numerical vs Categorical)\n",
    "female_tips = data[data['sex'] == 'Female']['tip']\n",
    "male_tips = data[data['sex'] == 'Male']['tip']\n",
    "f_statistic, p_value = f_oneway(female_tips, male_tips)\n",
    "print(\"\\n2.3) ANOVA results for 'tip' and 'sex':\")\n",
    "print(f\"ANOVA results: F-statistic = {f_statistic}, p-value = {p_value}\")\n",
    "if p_value < 0.05:\n",
    "    print(\"The difference in tips between genders is statistically significant.\")\n",
    "else:\n",
    "    print(\"The difference in tips between genders is not statistically significant.\")"
   ]
  },
  {
   "cell_type": "code",
   "execution_count": 8,
   "id": "1884d72b",
   "metadata": {},
   "outputs": [
    {
     "name": "stdout",
     "output_type": "stream",
     "text": [
      "\n",
      "Chi-Square Test results for 'sex' and 'smoker':\n",
      "Chi-Square Test results: Chi2 = 0.008763290531773594, p-value = 0.925417020494423\n",
      "There is no significant relationship between gender and smoking habits.\n"
     ]
    }
   ],
   "source": [
    "# For Chi-Square (Categorical vs Categorical)\n",
    "contingency_table = pd.crosstab(data['sex'], data['smoker'])\n",
    "chi2, p, _, _ = chi2_contingency(contingency_table)\n",
    "print(\"\\nChi-Square Test results for 'sex' and 'smoker':\")\n",
    "print(f\"Chi-Square Test results: Chi2 = {chi2}, p-value = {p}\")\n",
    "if p < 0.05:\n",
    "    print(\"There is a significant relationship between gender and smoking habits.\")\n",
    "else:\n",
    "    print(\"There is no significant relationship between gender and smoking habits.\")"
   ]
  },
  {
   "cell_type": "code",
   "execution_count": 9,
   "id": "a7ee885c",
   "metadata": {},
   "outputs": [
    {
     "name": "stdout",
     "output_type": "stream",
     "text": [
      "\n",
      "3) Statistical summary for 'tip':\n",
      "count    244.000000\n",
      "mean       2.998279\n",
      "std        1.383638\n",
      "min        1.000000\n",
      "25%        2.000000\n",
      "50%        2.900000\n",
      "75%        3.562500\n",
      "max       10.000000\n",
      "Name: tip, dtype: float64\n"
     ]
    }
   ],
   "source": [
    "# 3) Statistical summary for 'tip'\n",
    "tip_summary = data['tip'].describe()\n",
    "print(\"\\n3) Statistical summary for 'tip':\")\n",
    "print(tip_summary)"
   ]
  },
  {
   "cell_type": "code",
   "execution_count": 10,
   "id": "6f92e24c",
   "metadata": {},
   "outputs": [
    {
     "name": "stdout",
     "output_type": "stream",
     "text": [
      "\n",
      "4) Difference between mean and median for 'tip' is: 0.10\n"
     ]
    }
   ],
   "source": [
    "# 4) Difference between mean and median for \"tip\"\n",
    "mean_tip = data['tip'].mean()\n",
    "median_tip = data['tip'].median()\n",
    "difference = mean_tip - median_tip\n",
    "print(f\"\\n4) Difference between mean and median for 'tip' is: {difference:.2f}\")"
   ]
  },
  {
   "cell_type": "code",
   "execution_count": 11,
   "id": "24e2a5c6",
   "metadata": {},
   "outputs": [
    {
     "data": {
      "image/png": "[encoded data removed]",
      "text/plain": [
       "<Figure size 432x288 with 1 Axes>"
      ]
     },
     "metadata": {
      "needs_background": "light"
     },
     "output_type": "display_data"
    }
   ],
   "source": [
    "# 5) Box plot for 'tip' to identify outliers\n",
    "plt.boxplot(data['tip'])\n",
    "plt.title('5) Box plot for tip')\n",
    "plt.show()"
   ]
  },
  {
   "cell_type": "code",
   "execution_count": 12,
   "id": "11924470",
   "metadata": {},
   "outputs": [
    {
     "data": {
      "image/png": "[encoded data removed]",
      "text/plain": [
       "<Figure size 432x288 with 1 Axes>"
      ]
     },
     "metadata": {
      "needs_background": "light"
     },
     "output_type": "display_data"
    }
   ],
   "source": [
    "# 6) Box plot for 'total_bill' to identify outliers\n",
    "plt.boxplot(data['total_bill'])\n",
    "plt.title('6) Box plot for total_bill')\n",
    "plt.show()"
   ]
  },
  {
   "cell_type": "code",
   "execution_count": 13,
   "id": "093694ca",
   "metadata": {},
   "outputs": [
    {
     "name": "stdout",
     "output_type": "stream",
     "text": [
      "\n",
      "7) Percentage of males & females in the dataset:\n",
      "Male      64.344262\n",
      "Female    35.655738\n",
      "Name: sex, dtype: float64\n"
     ]
    }
   ],
   "source": [
    "# 7) Percentage of males & females in the dataset\n",
    "gender_percentage = data['sex'].value_counts(normalize=True) * 100\n",
    "print(\"\\n7) Percentage of males & females in the dataset:\")\n",
    "print(gender_percentage)"
   ]
  },
  {
   "cell_type": "code",
   "execution_count": 14,
   "id": "156ae06d",
   "metadata": {},
   "outputs": [
    {
     "data": {
      "image/png": "[encoded data removed]",
      "text/plain": [
       "<Figure size 432x288 with 1 Axes>"
      ]
     },
     "metadata": {
      "needs_background": "light"
     },
     "output_type": "display_data"
    }
   ],
   "source": [
    "# 8) Bar plot representing the percentage of records for each gender\n",
    "gender_counts = data['sex'].value_counts(normalize=True) * 100\n",
    "gender_counts.plot(kind='bar', title='8) Percentage of Records for Each Gender')\n",
    "plt.ylabel('Percentage')\n",
    "plt.xlabel('Gender')\n",
    "plt.show()"
   ]
  },
  {
   "cell_type": "code",
   "execution_count": 15,
   "id": "e35af14c",
   "metadata": {},
   "outputs": [
    {
     "name": "stdout",
     "output_type": "stream",
     "text": [
      "\n",
      "9) Average tip by gender:\n",
      "sex\n",
      "Female    2.833448\n",
      "Male      3.089618\n",
      "Name: tip, dtype: float64\n"
     ]
    }
   ],
   "source": [
    "# 9) Find the average differentiate by gender and write your observation.\n",
    "average_by_gender = data.groupby('sex')['tip'].mean()\n",
    "print(\"\\n9) Average tip by gender:\")\n",
    "print(average_by_gender)"
   ]
  },
  {
   "cell_type": "code",
   "execution_count": 16,
   "id": "785599f4",
   "metadata": {},
   "outputs": [
    {
     "name": "stdout",
     "output_type": "stream",
     "text": [
      "\n",
      "10) Average tip by day:\n",
      "day\n",
      "Fri     2.734737\n",
      "Sat     2.993103\n",
      "Sun     3.255132\n",
      "Thur    2.771452\n",
      "Name: tip, dtype: float64\n"
     ]
    }
   ],
   "source": [
    "# 10) Find average tip according to day (i.e. weekday) write your observation on that\n",
    "average_by_day = data.groupby('day')['tip'].mean()\n",
    "print(\"\\n10) Average tip by day:\")\n",
    "print(average_by_day)"
   ]
  },
  {
   "cell_type": "code",
   "execution_count": 17,
   "id": "b70a296e",
   "metadata": {},
   "outputs": [
    {
     "name": "stdout",
     "output_type": "stream",
     "text": [
      "\n",
      "11) Average tip by table size:\n",
      "size\n",
      "1    1.437500\n",
      "2    2.582308\n",
      "3    3.393158\n",
      "4    4.135405\n",
      "5    4.028000\n",
      "6    5.225000\n",
      "Name: tip, dtype: float64\n"
     ]
    }
   ],
   "source": [
    "# 11) Find the average tip according to size (number of people at the table)\n",
    "average_by_size = data.groupby('size')['tip'].mean()\n",
    "print(\"\\n11) Average tip by table size:\")\n",
    "print(average_by_size)"
   ]
  },
  {
   "cell_type": "code",
   "execution_count": 18,
   "id": "3233b953",
   "metadata": {},
   "outputs": [
    {
     "name": "stdout",
     "output_type": "stream",
     "text": [
      "\n",
      "12) Average tip for smokers and non-smokers:\n",
      "Average tip for smokers: 3.01\n",
      "Average tip for non-smokers: 2.99\n",
      "Smokers tend to tip more than non-smokers.\n"
     ]
    }
   ],
   "source": [
    "# 12) Is smokers' tip more than non-smokers?\n",
    "smoker_tips = data[data['smoker'] == 'Yes']['tip']\n",
    "non_smoker_tips = data[data['smoker'] == 'No']['tip']\n",
    "mean_tip_smokers = smoker_tips.mean()\n",
    "mean_tip_non_smokers = non_smoker_tips.mean()\n",
    "print(\"\\n12) Average tip for smokers and non-smokers:\")\n",
    "print(f\"Average tip for smokers: {mean_tip_smokers:.2f}\")\n",
    "print(f\"Average tip for non-smokers: {mean_tip_non_smokers:.2f}\")\n",
    "if mean_tip_smokers > mean_tip_non_smokers:\n",
    "    print(\"Smokers tend to tip more than non-smokers.\")\n",
    "else:\n",
    "    print(\"Non-smokers tend to tip more than smokers.\")"
   ]
  },
  {
   "cell_type": "code",
   "execution_count": 19,
   "id": "038cf96c",
   "metadata": {},
   "outputs": [
    {
     "name": "stdout",
     "output_type": "stream",
     "text": [
      "\n",
      "13) Average tip by gender and smoker status:\n",
      "smoker        No       Yes\n",
      "sex                       \n",
      "Female  2.773519  2.931515\n",
      "Male    3.113402  3.051167\n",
      "Male smokers tend to tip more than female smokers.\n"
     ]
    }
   ],
   "source": [
    "# 13) Create a 2 by 2 and get the average tip size (Gender vs smoker and tip size).\n",
    "# Which group tips the most?\n",
    "# Hints (index will be sex, columns will be smoker, values will be tips)\n",
    "grouped = data.groupby(['sex', 'smoker'])['tip'].mean().unstack()\n",
    "print(\"\\n13) Average tip by gender and smoker status:\")\n",
    "print(grouped)\n",
    "if grouped.loc['Female', 'Yes'] > grouped.loc['Male', 'Yes']:\n",
    "    print(\"Female smokers tend to tip more than male smokers.\")\n",
    "else:\n",
    "    print(\"Male smokers tend to tip more than female smokers.\")"
   ]
  },
  {
   "cell_type": "code",
   "execution_count": 20,
   "id": "a601e0ca",
   "metadata": {},
   "outputs": [],
   "source": [
    "# 14) Create a column called 'pct_tip' = tip / total_bill - this would be giving \n",
    "# percentage of tip and should be a better measure of the tipping behavior.\n",
    "data['pct_tip'] = data['tip'] / data['total_bill'] * 100"
   ]
  },
  {
   "cell_type": "code",
   "execution_count": 21,
   "id": "ced4dee9",
   "metadata": {},
   "outputs": [
    {
     "name": "stdout",
     "output_type": "stream",
     "text": [
      "\n",
      "15) Relationships between 'pct_tip' and 'sex', 'size':\n",
      "Relationship with sex:\n",
      "sex\n",
      "Female    16.649074\n",
      "Male      15.765055\n",
      "Name: pct_tip, dtype: float64\n",
      "Relationship with table size:\n",
      "size\n",
      "1    21.729202\n",
      "2    16.571919\n",
      "3    15.215685\n",
      "4    14.594901\n",
      "5    14.149549\n",
      "6    15.622920\n",
      "Name: pct_tip, dtype: float64\n"
     ]
    }
   ],
   "source": [
    "# 15) Find the relationships with 'pct_tip\" to \"sex\", \"size\" write your observations\n",
    "relationship_sex_pct_tip = data.groupby('sex')['pct_tip'].mean()\n",
    "relationship_size_pct_tip = data.groupby('size')['pct_tip'].mean()\n",
    "print(\"\\n15) Relationships between 'pct_tip' and 'sex', 'size':\")\n",
    "print(\"Relationship with sex:\")\n",
    "print(relationship_sex_pct_tip)\n",
    "print(\"Relationship with table size:\")\n",
    "print(relationship_size_pct_tip)"
   ]
  },
  {
   "cell_type": "code",
   "execution_count": 22,
   "id": "064526bb",
   "metadata": {},
   "outputs": [
    {
     "name": "stdout",
     "output_type": "stream",
     "text": [
      "\n",
      "16) Average pct_tip by gender and smoker status:\n",
      "smoker         No        Yes\n",
      "sex                         \n",
      "Female  15.692097  18.215035\n",
      "Male    16.066872  15.277118\n"
     ]
    }
   ],
   "source": [
    "# 16) Make the gender vs. smoker view using pct_tip (like task 13)\n",
    "grouped_pct_tip = data.groupby(['sex', 'smoker'])['pct_tip'].mean().unstack()\n",
    "print(\"\\n16) Average pct_tip by gender and smoker status:\")\n",
    "print(grouped_pct_tip)"
   ]
  },
  {
   "cell_type": "code",
   "execution_count": 23,
   "id": "67086e0c",
   "metadata": {},
   "outputs": [
    {
     "data": {
      "image/png": "[encoded data removed]",
      "text/plain": [
       "<Figure size 432x288 with 1 Axes>"
      ]
     },
     "metadata": {
      "needs_background": "light"
     },
     "output_type": "display_data"
    }
   ],
   "source": [
    "# 17) Make a scatter plot of total_bill vs. tip\n",
    "plt.scatter(data['total_bill'], data['tip'])\n",
    "plt.title('17) Scatter plot of total_bill vs. tip')\n",
    "plt.xlabel('Total Bill')\n",
    "plt.ylabel('Tip')\n",
    "plt.show()"
   ]
  },
  {
   "cell_type": "code",
   "execution_count": 24,
   "id": "b1e92866",
   "metadata": {},
   "outputs": [
    {
     "data": {
      "image/png": "[encoded data removed]",
      "text/plain": [
       "<Figure size 432x288 with 1 Axes>"
      ]
     },
     "metadata": {
      "needs_background": "light"
     },
     "output_type": "display_data"
    }
   ],
   "source": [
    "# 18) Make a scatter plot of total_bill vs. pct_tip\n",
    "plt.scatter(data['total_bill'], data['pct_tip'])\n",
    "plt.title('18) Scatter plot of total_bill vs. pct_tip')\n",
    "plt.xlabel('Total Bill')\n",
    "plt.ylabel('Percentage of Tip')\n",
    "plt.show()"
   ]
  },
  {
   "cell_type": "code",
   "execution_count": 25,
   "id": "255d311d",
   "metadata": {},
   "outputs": [
    {
     "name": "stdout",
     "output_type": "stream",
     "text": [
      "\n",
      "19) Observations from scatter plots:\n",
      "Scatter plot of total_bill vs. tip: Shows the relationship between total bill and tip amount.\n",
      "Scatter plot of total_bill vs. pct_tip: Indicates the trend of tip percentage concerning total bill.\n"
     ]
    }
   ],
   "source": [
    "# 19) Describe or write your observations according to 17 and 18\n",
    "print(\"\\n19) Observations from scatter plots:\")\n",
    "print(\"Scatter plot of total_bill vs. tip: Shows the relationship between total bill and tip amount.\")\n",
    "print(\"Scatter plot of total_bill vs. pct_tip: Indicates the trend of tip percentage concerning total bill.\")"
   ]
  },
  {
   "cell_type": "markdown",
   "id": "9e4b6413",
   "metadata": {},
   "source": [
    "**Thank You**"
   ]
  }
 ],
 "metadata": {
  "kernelspec": {
   "display_name": "Python 3",
   "language": "python",
   "name": "python3"
  },
  "language_info": {
   "codemirror_mode": {
    "name": "ipython",
    "version": 3
   },
   "file_extension": ".py",
   "mimetype": "text/x-python",
   "name": "python",
   "nbconvert_exporter": "python",
   "pygments_lexer": "ipython3",
   "version": "3.6.8"
  }
 },
 "nbformat": 4,
 "nbformat_minor": 5
}
